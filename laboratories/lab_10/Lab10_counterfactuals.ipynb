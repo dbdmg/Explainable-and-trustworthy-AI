{
 "cells": [
  {
   "cell_type": "markdown",
   "metadata": {},
   "source": [
    "# **Lab 10 - Explainable and Trustworthy AI**\n",
    "\n",
    "\n",
    "---\n",
    "\n"
   ]
  },
  {
   "cell_type": "markdown",
   "metadata": {},
   "source": [
    "**Teacher**: Eliana Pastor (eliana.pastor@polito.it)"
   ]
  },
  {
   "cell_type": "markdown",
   "metadata": {},
   "source": [
    "\n",
    "---\n",
    "\n",
    "## **Counterfactual explanatios**\n",
    "\n",
    "We generate counterfactual of individual predictions provided.\n",
    "We consider the [DICE](https://dl.acm.org/doi/10.1145/3351095.3372850) algorithm and the [dice-ml](https://interpret.ml/DiCE/) library.\n",
    "Part of this laboratory is adapted from the official examples of the library. You can refer to the original notebook examples from full details on the library and its usage.\n",
    "\n",
    "\n",
    "We focus on the [Adult dataset](https://archive.ics.uci.edu/dataset/2/adult) and a Random Forest classifier, as done for the previous labs (e.g., 3b and 7a).\n",
    "\n",
    "> **Dataset.** The Adult dataset, also known as the \"Census Income\" dataset, contains demographic information about people, such as age, education, occupation, marital status and more, extracted from the 1994 U.S. Census Bureau database. **Each entry** in the dataset represents a **person**, and the associated **task** is to **predict whether an individual earns more than $50,000 per year** or less.\n",
    "\n",
    "> **Model**\n",
    "\n",
    "* We first load the Adult dataset.\n",
    "  * We can directly [load the dataset from UCI](https://archive.ics.uci.edu/dataset/2/adult) and process it. The dataset is available from the UCI repository. Using the library ucimlrepo we can easily fetch the dataset. Alternatively, we can use the dataset available in the SHAP [library](https://shap.readthedocs.io/en/latest/generated/shap.datasets.adult.html) as done for the previous labs.\n",
    "  Or w\n",
    "*  We split the Adult dataset. 80/20 train-test ratio.\n",
    "*  We then rain a RandomForestClassifier and fit it over the training dataset. Evaluate the model.\n",
    "\n",
    "\n",
    "> **Counterfactual Explanations**\n",
    "\n",
    "Use the algorithm DICE to generate counterfactual.\n",
    "\n",
    "1. Generate counterfarfactuals for the instance `id=0` of the test set using defaul parameters.\n",
    "2. Generate counterfarfactuals imposing a actionability constraint. Specify the set of attributes to be modified to generate the counterfactuals.\n",
    "3. Generate counterfarfactuals imposing a feasibility constraints. Specify the range of values of the features.\n",
    "4. DICE computes a feature importance considering the number of times a feature is changed to generate a counterfactual.\n",
    "The more ofter a feature is changed, the more it is important to generate the counterfactuals."
   ]
  },
  {
   "cell_type": "code",
   "execution_count": null,
   "metadata": {},
   "outputs": [],
   "source": [
    "! pip install ucimlrepo"
   ]
  },
  {
   "cell_type": "code",
   "execution_count": null,
   "metadata": {},
   "outputs": [],
   "source": [
    "!pip install dice-ml"
   ]
  },
  {
   "cell_type": "code",
   "execution_count": null,
   "metadata": {},
   "outputs": [],
   "source": [
    "%load_ext autoreload\n",
    "%autoreload 2"
   ]
  },
  {
   "cell_type": "markdown",
   "metadata": {},
   "source": [
    "# Data import, processing and training"
   ]
  },
  {
   "cell_type": "markdown",
   "metadata": {},
   "source": [
    "In the following, first load the data, preprocess it and train a Random Forest classifier"
   ]
  },
  {
   "cell_type": "code",
   "execution_count": null,
   "metadata": {},
   "outputs": [],
   "source": [
    "from sklearn.compose import ColumnTransformer\n",
    "from sklearn.model_selection import train_test_split\n",
    "from sklearn.pipeline import Pipeline\n",
    "from sklearn.preprocessing import StandardScaler, OneHotEncoder\n",
    "from sklearn.ensemble import RandomForestClassifier"
   ]
  },
  {
   "cell_type": "code",
   "execution_count": null,
   "metadata": {},
   "outputs": [],
   "source": [
    "from ucimlrepo import fetch_ucirepo \n",
    "  \n",
    "# fetch dataset \n",
    "adult = fetch_ucirepo(id=2) \n",
    "  \n",
    "# data (as pandas dataframes) \n",
    "X = adult.data.features \n",
    "y = adult.data.targets.copy() \n",
    "y.replace({'<=50K.': '<=50K', '>50K.': '>50K'}, inplace=True)"
   ]
  },
  {
   "cell_type": "code",
   "execution_count": null,
   "metadata": {},
   "outputs": [],
   "source": [
    "attributes = list(X.columns)\n",
    "target_class = list(y.columns)[0]"
   ]
  },
  {
   "cell_type": "markdown",
   "metadata": {},
   "source": [
    "Split train and test"
   ]
  },
  {
   "cell_type": "code",
   "execution_count": null,
   "metadata": {},
   "outputs": [],
   "source": [
    "X_train, X_test, y_train, y_test = train_test_split(X,\n",
    "                                                    y,\n",
    "                                                    test_size=0.2,\n",
    "                                                    random_state=42,\n",
    "                                                    stratify=y)"
   ]
  },
  {
   "cell_type": "markdown",
   "metadata": {},
   "source": [
    "Preprocessing"
   ]
  },
  {
   "cell_type": "code",
   "execution_count": null,
   "metadata": {},
   "outputs": [],
   "source": [
    "X.describe()"
   ]
  },
  {
   "cell_type": "code",
   "execution_count": null,
   "metadata": {},
   "outputs": [],
   "source": [
    "numerical = ['age', 'fnlwgt', 'hours-per-week', 'education-num', 'capital-gain', 'capital-loss']\n",
    "categorical = X_train.columns.difference(numerical)\n",
    "\n",
    "# We create the preprocessing pipelines for both numeric and categorical data.\n",
    "numeric_transformer = Pipeline(steps=[\n",
    "    ('scaler', StandardScaler())])\n",
    "\n",
    "categorical_transformer = Pipeline(steps=[\n",
    "    ('onehot', OneHotEncoder(handle_unknown='ignore'))])\n",
    "\n",
    "transformations = ColumnTransformer(\n",
    "    transformers=[\n",
    "        ('num', numeric_transformer, numerical),\n",
    "        ('cat', categorical_transformer, categorical)])"
   ]
  },
  {
   "cell_type": "code",
   "execution_count": null,
   "metadata": {},
   "outputs": [],
   "source": [
    "clf = Pipeline(steps=[('preprocessor', transformations),\n",
    "                      ('classifier', RandomForestClassifier())])\n",
    "model = clf.fit(X_train, y_train)"
   ]
  },
  {
   "cell_type": "markdown",
   "metadata": {},
   "source": [
    "# Counterfactual explanantions using DICE"
   ]
  },
  {
   "cell_type": "markdown",
   "metadata": {},
   "source": [
    "Import DICE package"
   ]
  },
  {
   "cell_type": "code",
   "execution_count": null,
   "metadata": {},
   "outputs": [],
   "source": [
    "import dice_ml"
   ]
  },
  {
   "cell_type": "code",
   "execution_count": null,
   "metadata": {},
   "outputs": [],
   "source": [
    "# Provide the trained model to DiCE's model object\n",
    "# Note that we specify tha the model is a sklearn model\n",
    "backend = 'sklearn'\n",
    "m = dice_ml.Model(model=model, backend=backend)"
   ]
  },
  {
   "cell_type": "code",
   "execution_count": null,
   "metadata": {},
   "outputs": [],
   "source": [
    "df_data = X_train.copy()\n",
    "df_data[target_class] = y_train.values\n",
    "\n",
    "# Define the data to generate counterfactuals\n",
    "# We specify the data (target class included), the continuous features and the target class\n",
    "\n",
    "d = dice_ml.Data(dataframe=df_data, \\\n",
    "                 continuous_features=numerical, \n",
    "                 outcome_name=target_class)\n"
   ]
  },
  {
   "cell_type": "markdown",
   "metadata": {},
   "source": [
    "DICE supports multiple algorithms to generate counterfactuals. We use the 'random' method based on random sampling of features"
   ]
  },
  {
   "cell_type": "code",
   "execution_count": null,
   "metadata": {},
   "outputs": [],
   "source": [
    "dice_alg = dice_ml.Dice(d, m, method=\"random\")"
   ]
  },
  {
   "cell_type": "markdown",
   "metadata": {},
   "source": [
    "## 1. Generate counterfactuals for a single instance"
   ]
  },
  {
   "cell_type": "markdown",
   "metadata": {},
   "source": [
    "Select the instance for which we want to generate a counterfactual. \n",
    "\n",
    "We select the first instance of the test set"
   ]
  },
  {
   "cell_type": "code",
   "execution_count": null,
   "metadata": {},
   "outputs": [],
   "source": [
    "# Specify the query instance for which we want to generate the counterfactual\n",
    "# Use the first instance of the test set\n",
    "# We suggest to specify it as a pandas dataframe\n",
    "query_instance =  # Add the query instance here\n",
    "query_instance"
   ]
  },
  {
   "cell_type": "markdown",
   "metadata": {},
   "source": [
    "What is the original prediction for the query instance?"
   ]
  },
  {
   "cell_type": "code",
   "execution_count": null,
   "metadata": {},
   "outputs": [],
   "source": [
    "# Predict the class for the query instance\n",
    "# "
   ]
  },
  {
   "cell_type": "markdown",
   "metadata": {},
   "source": [
    "Generate 3 counterfactuals for the query instance"
   ]
  },
  {
   "cell_type": "code",
   "execution_count": null,
   "metadata": {},
   "outputs": [],
   "source": [
    "# Generate the counterfactuals\n",
    "dice_exp = dice_alg.generate_counterfactuals(query_instance, \n",
    "                                             total_CFs= ###, #Specify the number of counterfactuals to generate\n",
    "                                             desired_class=\"opposite\", # We want to generate counterfactuals that will have as predicted class the opposite of the original instance\n",
    "                                             verbose=False, \n",
    "                                             random_seed=7)"
   ]
  },
  {
   "cell_type": "markdown",
   "metadata": {},
   "source": [
    "You can visualize the counterfactuals using the visualize_as_dataframe method. This method will return a pandas dataframe with the counterfactuals generated.\n",
    "\n",
    "By setting show_only_changes=True, it will generate a sparse visualization of the counterfactuals, were only the changed features and values are reported"
   ]
  },
  {
   "cell_type": "code",
   "execution_count": null,
   "metadata": {},
   "outputs": [],
   "source": [
    "dice_exp.visualize_as_dataframe(show_only_changes=True)"
   ]
  },
  {
   "cell_type": "markdown",
   "metadata": {},
   "source": [
    "Get the counterfactuals as a dataframe"
   ]
  },
  {
   "cell_type": "code",
   "execution_count": null,
   "metadata": {},
   "outputs": [],
   "source": [
    "counterfactuals_df = dice_exp.cf_examples_list[0].final_cfs_df\n",
    "counterfactuals_df"
   ]
  },
  {
   "cell_type": "markdown",
   "metadata": {},
   "source": [
    "Check that indeed the model predicts the opposite class for the counterfactuals"
   ]
  },
  {
   "cell_type": "code",
   "execution_count": null,
   "metadata": {},
   "outputs": [],
   "source": [
    "# Predict the class for the counterfactuals"
   ]
  },
  {
   "cell_type": "markdown",
   "metadata": {},
   "source": [
    "## 2. Actionable Counterfactuals"
   ]
  },
  {
   "cell_type": "markdown",
   "metadata": {},
   "source": [
    "Goal: Generate counterfarfactuals imposing a actionability constraint.\n",
    "We specify the set of attributes to be modified to generate the counterfactuals."
   ]
  },
  {
   "cell_type": "markdown",
   "metadata": {},
   "source": [
    "Depending on the data and task, it is not always possible to modify some attributes.append\n",
    "For example, if we want to generate a counterfactual for a person with a certain age, we cannot change the age of the person. \n",
    "In this case, we can specify the attributes that we want to keep fixed using the features_to_vary parameter."
   ]
  },
  {
   "cell_type": "markdown",
   "metadata": {},
   "source": [
    "We can use the parameter `features_to_vary` to specify the features that we want to vary"
   ]
  },
  {
   "cell_type": "code",
   "execution_count": null,
   "metadata": {},
   "outputs": [],
   "source": [
    "# generate counterfactuals\n",
    "dice_exp = dice_alg.generate_counterfactuals(\n",
    "        query_instance, \n",
    "        total_CFs= ##, #Specify the number of counterfactuals to generate\n",
    "        desired_class=\"opposite\",\n",
    "        features_to_vary= ###, #Specify the features to vary\n",
    "        random_seed=7)"
   ]
  },
  {
   "cell_type": "code",
   "execution_count": null,
   "metadata": {},
   "outputs": [],
   "source": [
    "dice_exp.visualize_as_dataframe(show_only_changes=True)"
   ]
  },
  {
   "cell_type": "markdown",
   "metadata": {},
   "source": [
    "## 3. Feasible Counterfactuals"
   ]
  },
  {
   "cell_type": "markdown",
   "metadata": {},
   "source": [
    "Generate counterfarfactuals imposing a feasibility constraints. \n",
    "In generate counterfactuals, we should also consider the range the feature values can assume.\n",
    "For example, we cannot increase indiscriminately the number of hours per week or the age range. \n",
    "\n",
    "In DICE, we specify the admitted range of values of the features."
   ]
  },
  {
   "cell_type": "markdown",
   "metadata": {},
   "source": [
    "We can use the parameter `permitted_range` to specify the range admitted for set of features. We specify the permitted range as a dictionary: {'attribute_name' :  [min_value, max_value], ..}"
   ]
  },
  {
   "cell_type": "code",
   "execution_count": null,
   "metadata": {},
   "outputs": [],
   "source": [
    "# generate counterfactuals\n",
    "dice_exp = dice_alg.generate_counterfactuals(\n",
    "    query_instance, \n",
    "    total_CFs= ##3, # Specify the number of counterfactuals to generate\n",
    "    desired_class=\"opposite\", \n",
    "    permitted_range= ###) # Specify the permitted range for the features as a dictionary : {feature_name: [min_value, max_value], ..}"
   ]
  },
  {
   "cell_type": "code",
   "execution_count": null,
   "metadata": {},
   "outputs": [],
   "source": [
    "dice_exp.visualize_as_dataframe(show_only_changes=True)"
   ]
  },
  {
   "cell_type": "markdown",
   "metadata": {},
   "source": [
    "## 4. Feature importance for the counterfactuals"
   ]
  },
  {
   "cell_type": "markdown",
   "metadata": {},
   "source": [
    "DICE computes a feature importance considering the number of times a feature is changed to generate a counterfactual.\n",
    "The more ofter a feature is changed, the more it is important to generate the counterfactuals."
   ]
  },
  {
   "cell_type": "markdown",
   "metadata": {},
   "source": [
    "For the computation of feature importance we use the method `local_feature_importance`.\n",
    "The method needs a set of counterfactuals (minimum 10) generated for the same query instance and computes the feature importance."
   ]
  },
  {
   "cell_type": "code",
   "execution_count": null,
   "metadata": {},
   "outputs": [],
   "source": [
    "# Generate the counterfactuals\n",
    "dice_exp = dice_alg.generate_counterfactuals(query_instance, \n",
    "                                             total_CFs= ##, #Specify the number of counterfactuals to generate (>10)\n",
    "                                             desired_class=\"opposite\", # We want to generate counterfactuals that will have as predicted class the opposite of the original instance\n",
    "                                             verbose=False, \n",
    "                                             random_seed=7)"
   ]
  },
  {
   "cell_type": "code",
   "execution_count": null,
   "metadata": {},
   "outputs": [],
   "source": [
    "# Generate the feature importance\n",
    " \n",
    "dice_exp_loc_imp = dice_alg.local_feature_importance(query_instance, \n",
    "                                             cf_examples_list=dice_exp.cf_examples_list)"
   ]
  },
  {
   "cell_type": "code",
   "execution_count": null,
   "metadata": {},
   "outputs": [],
   "source": [
    "# Print the local feature impornance\n",
    " \n",
    "## "
   ]
  },
  {
   "cell_type": "markdown",
   "metadata": {},
   "source": [
    "Plot the local feature importance as a bar chart"
   ]
  },
  {
   "cell_type": "code",
   "execution_count": null,
   "metadata": {},
   "outputs": [],
   "source": [
    "# Plot the feature importance"
   ]
  }
 ],
 "metadata": {
  "kernelspec": {
   "display_name": "xailab",
   "language": "python",
   "name": "python3"
  },
  "language_info": {
   "codemirror_mode": {
    "name": "ipython",
    "version": 3
   },
   "file_extension": ".py",
   "mimetype": "text/x-python",
   "name": "python",
   "nbconvert_exporter": "python",
   "pygments_lexer": "ipython3",
   "version": "3.12.3"
  }
 },
 "nbformat": 4,
 "nbformat_minor": 2
}
