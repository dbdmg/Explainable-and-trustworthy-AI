{
  "cells": [
    {
      "cell_type": "markdown",
      "metadata": {
        "id": "YO0NhD6Q4BjE"
      },
      "source": [
        "# **Lab 7a - Explainable and Trustworthy AI**\n",
        "\n",
        "\n",
        "---\n",
        "\n"
      ]
    },
    {
      "cell_type": "markdown",
      "metadata": {
        "id": "ZZLb6zMxU0KA"
      },
      "source": [
        "**Teacher**: Eliana Pastor (eliana.pastor@polito.it)"
      ]
    },
    {
      "cell_type": "markdown",
      "metadata": {
        "id": "akFQU_ofq_sb"
      },
      "source": [
        "\n",
        "---\n",
        "\n",
        "## **Evaluating explanations - Tabular data**\n",
        "\n",
        "We evaluate the explanation of individual predictions provided by SHAP.\n",
        "We focus on the [Adult dataset](https://archive.ics.uci.edu/dataset/2/adult) and a Random Forest classifier, as done for Lab 3b.\n",
        "\n",
        "\n",
        "> **Dataset.** The Adult dataset, also known as the \"Census Income\" dataset, contains demographic information about people, such as age, education, occupation, marital status and more, extracted from the 1994 U.S. Census Bureau database. **Each entry** in the dataset represents a **person**, and the associated **task** is to **predict whether an individual earns more than $50,000 per year** or less.\n",
        "\n",
        "> **Model**\n",
        "\n",
        "1. We first load the Adult dataset.\n",
        "  * We use the dataset available in the SHAP [library](https://shap.readthedocs.io/en/latest/generated/shap.datasets.adult.html).\n",
        "  * SHAP provides two versions of Adult dataset: an already preprocessed, that we will use for both the classifier and the explainer; the original dataset version, to interpret the results.\n",
        "2. We split the Adult dataset. 80/20 train-test ratio.\n",
        "3. We then rain a RandomForestClassifier and fit it over the training dataset. Evaluate the model.\n",
        "\n",
        "\n",
        "> **Explanations**\n",
        "\n",
        "4. Use the `shap.Explainer` to explain the instance `id=0` .\n",
        "5. **Plot** with a bar chart from `matplotlib.pyplot` the **Shapley values** for the instance `id=0` ."
      ]
    },
    {
      "cell_type": "markdown",
      "metadata": {},
      "source": [
        "In the following, we load the dataset, train the model and generate explanations with SHAP, as done for Lab 3b"
      ]
    },
    {
      "cell_type": "code",
      "execution_count": 1,
      "metadata": {
        "id": "wuVsldLsGqMg"
      },
      "outputs": [
        {
          "name": "stderr",
          "output_type": "stream",
          "text": [
            "/Users/eliana/miniconda3/envs/xailab/lib/python3.12/site-packages/tqdm/auto.py:21: TqdmWarning: IProgress not found. Please update jupyter and ipywidgets. See https://ipywidgets.readthedocs.io/en/stable/user_install.html\n",
            "  from .autonotebook import tqdm as notebook_tqdm\n"
          ]
        }
      ],
      "source": [
        "import numpy as np\n",
        "import pandas as pd\n",
        "from matplotlib import pyplot as plt\n",
        "from sklearn.model_selection import train_test_split\n",
        "from sklearn.ensemble import RandomForestClassifier\n",
        "import shap\n",
        "\n",
        "import random\n",
        "random.seed(42)"
      ]
    },
    {
      "cell_type": "markdown",
      "metadata": {},
      "source": [
        "#### Data loading and splitting"
      ]
    },
    {
      "cell_type": "markdown",
      "metadata": {},
      "source": [
        "We use the dataset already processed available in the shap library (see Lab 3b)"
      ]
    },
    {
      "cell_type": "code",
      "execution_count": 2,
      "metadata": {
        "colab": {
          "base_uri": "https://localhost:8080/",
          "height": 424
        },
        "id": "7h5FUnbaKDzx",
        "outputId": "a107edb1-a163-483e-dbe1-89907d6cd9f4"
      },
      "outputs": [
        {
          "data": {
            "text/html": [
              "<div>\n",
              "<style scoped>\n",
              "    .dataframe tbody tr th:only-of-type {\n",
              "        vertical-align: middle;\n",
              "    }\n",
              "\n",
              "    .dataframe tbody tr th {\n",
              "        vertical-align: top;\n",
              "    }\n",
              "\n",
              "    .dataframe thead th {\n",
              "        text-align: right;\n",
              "    }\n",
              "</style>\n",
              "<table border=\"1\" class=\"dataframe\">\n",
              "  <thead>\n",
              "    <tr style=\"text-align: right;\">\n",
              "      <th></th>\n",
              "      <th>Age</th>\n",
              "      <th>Workclass</th>\n",
              "      <th>Education-Num</th>\n",
              "      <th>Marital Status</th>\n",
              "      <th>Occupation</th>\n",
              "      <th>Relationship</th>\n",
              "      <th>Race</th>\n",
              "      <th>Sex</th>\n",
              "      <th>Capital Gain</th>\n",
              "      <th>Capital Loss</th>\n",
              "      <th>Hours per week</th>\n",
              "      <th>Country</th>\n",
              "    </tr>\n",
              "  </thead>\n",
              "  <tbody>\n",
              "    <tr>\n",
              "      <th>0</th>\n",
              "      <td>39.0</td>\n",
              "      <td>7</td>\n",
              "      <td>13.0</td>\n",
              "      <td>4</td>\n",
              "      <td>1</td>\n",
              "      <td>0</td>\n",
              "      <td>4</td>\n",
              "      <td>1</td>\n",
              "      <td>2174.0</td>\n",
              "      <td>0.0</td>\n",
              "      <td>40.0</td>\n",
              "      <td>39</td>\n",
              "    </tr>\n",
              "    <tr>\n",
              "      <th>1</th>\n",
              "      <td>50.0</td>\n",
              "      <td>6</td>\n",
              "      <td>13.0</td>\n",
              "      <td>2</td>\n",
              "      <td>4</td>\n",
              "      <td>4</td>\n",
              "      <td>4</td>\n",
              "      <td>1</td>\n",
              "      <td>0.0</td>\n",
              "      <td>0.0</td>\n",
              "      <td>13.0</td>\n",
              "      <td>39</td>\n",
              "    </tr>\n",
              "    <tr>\n",
              "      <th>2</th>\n",
              "      <td>38.0</td>\n",
              "      <td>4</td>\n",
              "      <td>9.0</td>\n",
              "      <td>0</td>\n",
              "      <td>6</td>\n",
              "      <td>0</td>\n",
              "      <td>4</td>\n",
              "      <td>1</td>\n",
              "      <td>0.0</td>\n",
              "      <td>0.0</td>\n",
              "      <td>40.0</td>\n",
              "      <td>39</td>\n",
              "    </tr>\n",
              "  </tbody>\n",
              "</table>\n",
              "</div>"
            ],
            "text/plain": [
              "    Age  Workclass  Education-Num  Marital Status  Occupation  Relationship  \\\n",
              "0  39.0          7           13.0               4           1             0   \n",
              "1  50.0          6           13.0               2           4             4   \n",
              "2  38.0          4            9.0               0           6             0   \n",
              "\n",
              "   Race  Sex  Capital Gain  Capital Loss  Hours per week  Country  \n",
              "0     4    1        2174.0           0.0            40.0       39  \n",
              "1     4    1           0.0           0.0            13.0       39  \n",
              "2     4    1           0.0           0.0            40.0       39  "
            ]
          },
          "metadata": {},
          "output_type": "display_data"
        },
        {
          "data": {
            "text/html": [
              "<div>\n",
              "<style scoped>\n",
              "    .dataframe tbody tr th:only-of-type {\n",
              "        vertical-align: middle;\n",
              "    }\n",
              "\n",
              "    .dataframe tbody tr th {\n",
              "        vertical-align: top;\n",
              "    }\n",
              "\n",
              "    .dataframe thead th {\n",
              "        text-align: right;\n",
              "    }\n",
              "</style>\n",
              "<table border=\"1\" class=\"dataframe\">\n",
              "  <thead>\n",
              "    <tr style=\"text-align: right;\">\n",
              "      <th></th>\n",
              "      <th>Age</th>\n",
              "      <th>Workclass</th>\n",
              "      <th>Education-Num</th>\n",
              "      <th>Marital Status</th>\n",
              "      <th>Occupation</th>\n",
              "      <th>Relationship</th>\n",
              "      <th>Race</th>\n",
              "      <th>Sex</th>\n",
              "      <th>Capital Gain</th>\n",
              "      <th>Capital Loss</th>\n",
              "      <th>Hours per week</th>\n",
              "      <th>Country</th>\n",
              "    </tr>\n",
              "  </thead>\n",
              "  <tbody>\n",
              "    <tr>\n",
              "      <th>0</th>\n",
              "      <td>39.0</td>\n",
              "      <td>State-gov</td>\n",
              "      <td>13.0</td>\n",
              "      <td>Never-married</td>\n",
              "      <td>Adm-clerical</td>\n",
              "      <td>Not-in-family</td>\n",
              "      <td>White</td>\n",
              "      <td>Male</td>\n",
              "      <td>2174.0</td>\n",
              "      <td>0.0</td>\n",
              "      <td>40.0</td>\n",
              "      <td>United-States</td>\n",
              "    </tr>\n",
              "    <tr>\n",
              "      <th>1</th>\n",
              "      <td>50.0</td>\n",
              "      <td>Self-emp-not-inc</td>\n",
              "      <td>13.0</td>\n",
              "      <td>Married-civ-spouse</td>\n",
              "      <td>Exec-managerial</td>\n",
              "      <td>Husband</td>\n",
              "      <td>White</td>\n",
              "      <td>Male</td>\n",
              "      <td>0.0</td>\n",
              "      <td>0.0</td>\n",
              "      <td>13.0</td>\n",
              "      <td>United-States</td>\n",
              "    </tr>\n",
              "    <tr>\n",
              "      <th>2</th>\n",
              "      <td>38.0</td>\n",
              "      <td>Private</td>\n",
              "      <td>9.0</td>\n",
              "      <td>Divorced</td>\n",
              "      <td>Handlers-cleaners</td>\n",
              "      <td>Not-in-family</td>\n",
              "      <td>White</td>\n",
              "      <td>Male</td>\n",
              "      <td>0.0</td>\n",
              "      <td>0.0</td>\n",
              "      <td>40.0</td>\n",
              "      <td>United-States</td>\n",
              "    </tr>\n",
              "  </tbody>\n",
              "</table>\n",
              "</div>"
            ],
            "text/plain": [
              "    Age          Workclass  Education-Num       Marital Status  \\\n",
              "0  39.0          State-gov           13.0        Never-married   \n",
              "1  50.0   Self-emp-not-inc           13.0   Married-civ-spouse   \n",
              "2  38.0            Private            9.0             Divorced   \n",
              "\n",
              "           Occupation    Relationship    Race    Sex  Capital Gain  \\\n",
              "0        Adm-clerical   Not-in-family   White   Male        2174.0   \n",
              "1     Exec-managerial         Husband   White   Male           0.0   \n",
              "2   Handlers-cleaners   Not-in-family   White   Male           0.0   \n",
              "\n",
              "   Capital Loss  Hours per week         Country  \n",
              "0           0.0            40.0   United-States  \n",
              "1           0.0            13.0   United-States  \n",
              "2           0.0            40.0   United-States  "
            ]
          },
          "metadata": {},
          "output_type": "display_data"
        }
      ],
      "source": [
        "# Load the data with display=False. This dataset has been processed (label encoding)\n",
        "X, y = shap.datasets.adult(display=False)\n",
        "\n",
        "display(X.head(3))\n",
        "\n",
        "# Load the data with display=True. This dataset still contains the categorical values.\n",
        "X_display, y_display = shap.datasets.adult(display=True)\n",
        "display(X_display.head(3))"
      ]
    },
    {
      "cell_type": "code",
      "execution_count": 3,
      "metadata": {
        "id": "Ptp1mz62KStc"
      },
      "outputs": [],
      "source": [
        "# Split the data\n",
        "X_train, X_test, y_train, y_test = train_test_split(X, y, test_size=0.2, random_state=42, shuffle=False)\n",
        "X_display_test, y_display_test = X_display.loc[X_test.index], y_display[X_test.index]"
      ]
    },
    {
      "cell_type": "markdown",
      "metadata": {},
      "source": [
        "#### Model training"
      ]
    },
    {
      "cell_type": "code",
      "execution_count": 4,
      "metadata": {
        "colab": {
          "base_uri": "https://localhost:8080/",
          "height": 218
        },
        "id": "8S7-vkkrKXo6",
        "outputId": "b7f3bc38-8487-4094-e097-fe61470559d6"
      },
      "outputs": [
        {
          "data": {
            "text/html": [
              "<style>#sk-container-id-1 {\n",
              "  /* Definition of color scheme common for light and dark mode */\n",
              "  --sklearn-color-text: black;\n",
              "  --sklearn-color-line: gray;\n",
              "  /* Definition of color scheme for unfitted estimators */\n",
              "  --sklearn-color-unfitted-level-0: #fff5e6;\n",
              "  --sklearn-color-unfitted-level-1: #f6e4d2;\n",
              "  --sklearn-color-unfitted-level-2: #ffe0b3;\n",
              "  --sklearn-color-unfitted-level-3: chocolate;\n",
              "  /* Definition of color scheme for fitted estimators */\n",
              "  --sklearn-color-fitted-level-0: #f0f8ff;\n",
              "  --sklearn-color-fitted-level-1: #d4ebff;\n",
              "  --sklearn-color-fitted-level-2: #b3dbfd;\n",
              "  --sklearn-color-fitted-level-3: cornflowerblue;\n",
              "\n",
              "  /* Specific color for light theme */\n",
              "  --sklearn-color-text-on-default-background: var(--sg-text-color, var(--theme-code-foreground, var(--jp-content-font-color1, black)));\n",
              "  --sklearn-color-background: var(--sg-background-color, var(--theme-background, var(--jp-layout-color0, white)));\n",
              "  --sklearn-color-border-box: var(--sg-text-color, var(--theme-code-foreground, var(--jp-content-font-color1, black)));\n",
              "  --sklearn-color-icon: #696969;\n",
              "\n",
              "  @media (prefers-color-scheme: dark) {\n",
              "    /* Redefinition of color scheme for dark theme */\n",
              "    --sklearn-color-text-on-default-background: var(--sg-text-color, var(--theme-code-foreground, var(--jp-content-font-color1, white)));\n",
              "    --sklearn-color-background: var(--sg-background-color, var(--theme-background, var(--jp-layout-color0, #111)));\n",
              "    --sklearn-color-border-box: var(--sg-text-color, var(--theme-code-foreground, var(--jp-content-font-color1, white)));\n",
              "    --sklearn-color-icon: #878787;\n",
              "  }\n",
              "}\n",
              "\n",
              "#sk-container-id-1 {\n",
              "  color: var(--sklearn-color-text);\n",
              "}\n",
              "\n",
              "#sk-container-id-1 pre {\n",
              "  padding: 0;\n",
              "}\n",
              "\n",
              "#sk-container-id-1 input.sk-hidden--visually {\n",
              "  border: 0;\n",
              "  clip: rect(1px 1px 1px 1px);\n",
              "  clip: rect(1px, 1px, 1px, 1px);\n",
              "  height: 1px;\n",
              "  margin: -1px;\n",
              "  overflow: hidden;\n",
              "  padding: 0;\n",
              "  position: absolute;\n",
              "  width: 1px;\n",
              "}\n",
              "\n",
              "#sk-container-id-1 div.sk-dashed-wrapped {\n",
              "  border: 1px dashed var(--sklearn-color-line);\n",
              "  margin: 0 0.4em 0.5em 0.4em;\n",
              "  box-sizing: border-box;\n",
              "  padding-bottom: 0.4em;\n",
              "  background-color: var(--sklearn-color-background);\n",
              "}\n",
              "\n",
              "#sk-container-id-1 div.sk-container {\n",
              "  /* jupyter's `normalize.less` sets `[hidden] { display: none; }`\n",
              "     but bootstrap.min.css set `[hidden] { display: none !important; }`\n",
              "     so we also need the `!important` here to be able to override the\n",
              "     default hidden behavior on the sphinx rendered scikit-learn.org.\n",
              "     See: https://github.com/scikit-learn/scikit-learn/issues/21755 */\n",
              "  display: inline-block !important;\n",
              "  position: relative;\n",
              "}\n",
              "\n",
              "#sk-container-id-1 div.sk-text-repr-fallback {\n",
              "  display: none;\n",
              "}\n",
              "\n",
              "div.sk-parallel-item,\n",
              "div.sk-serial,\n",
              "div.sk-item {\n",
              "  /* draw centered vertical line to link estimators */\n",
              "  background-image: linear-gradient(var(--sklearn-color-text-on-default-background), var(--sklearn-color-text-on-default-background));\n",
              "  background-size: 2px 100%;\n",
              "  background-repeat: no-repeat;\n",
              "  background-position: center center;\n",
              "}\n",
              "\n",
              "/* Parallel-specific style estimator block */\n",
              "\n",
              "#sk-container-id-1 div.sk-parallel-item::after {\n",
              "  content: \"\";\n",
              "  width: 100%;\n",
              "  border-bottom: 2px solid var(--sklearn-color-text-on-default-background);\n",
              "  flex-grow: 1;\n",
              "}\n",
              "\n",
              "#sk-container-id-1 div.sk-parallel {\n",
              "  display: flex;\n",
              "  align-items: stretch;\n",
              "  justify-content: center;\n",
              "  background-color: var(--sklearn-color-background);\n",
              "  position: relative;\n",
              "}\n",
              "\n",
              "#sk-container-id-1 div.sk-parallel-item {\n",
              "  display: flex;\n",
              "  flex-direction: column;\n",
              "}\n",
              "\n",
              "#sk-container-id-1 div.sk-parallel-item:first-child::after {\n",
              "  align-self: flex-end;\n",
              "  width: 50%;\n",
              "}\n",
              "\n",
              "#sk-container-id-1 div.sk-parallel-item:last-child::after {\n",
              "  align-self: flex-start;\n",
              "  width: 50%;\n",
              "}\n",
              "\n",
              "#sk-container-id-1 div.sk-parallel-item:only-child::after {\n",
              "  width: 0;\n",
              "}\n",
              "\n",
              "/* Serial-specific style estimator block */\n",
              "\n",
              "#sk-container-id-1 div.sk-serial {\n",
              "  display: flex;\n",
              "  flex-direction: column;\n",
              "  align-items: center;\n",
              "  background-color: var(--sklearn-color-background);\n",
              "  padding-right: 1em;\n",
              "  padding-left: 1em;\n",
              "}\n",
              "\n",
              "\n",
              "/* Toggleable style: style used for estimator/Pipeline/ColumnTransformer box that is\n",
              "clickable and can be expanded/collapsed.\n",
              "- Pipeline and ColumnTransformer use this feature and define the default style\n",
              "- Estimators will overwrite some part of the style using the `sk-estimator` class\n",
              "*/\n",
              "\n",
              "/* Pipeline and ColumnTransformer style (default) */\n",
              "\n",
              "#sk-container-id-1 div.sk-toggleable {\n",
              "  /* Default theme specific background. It is overwritten whether we have a\n",
              "  specific estimator or a Pipeline/ColumnTransformer */\n",
              "  background-color: var(--sklearn-color-background);\n",
              "}\n",
              "\n",
              "/* Toggleable label */\n",
              "#sk-container-id-1 label.sk-toggleable__label {\n",
              "  cursor: pointer;\n",
              "  display: block;\n",
              "  width: 100%;\n",
              "  margin-bottom: 0;\n",
              "  padding: 0.5em;\n",
              "  box-sizing: border-box;\n",
              "  text-align: center;\n",
              "}\n",
              "\n",
              "#sk-container-id-1 label.sk-toggleable__label-arrow:before {\n",
              "  /* Arrow on the left of the label */\n",
              "  content: \"▸\";\n",
              "  float: left;\n",
              "  margin-right: 0.25em;\n",
              "  color: var(--sklearn-color-icon);\n",
              "}\n",
              "\n",
              "#sk-container-id-1 label.sk-toggleable__label-arrow:hover:before {\n",
              "  color: var(--sklearn-color-text);\n",
              "}\n",
              "\n",
              "/* Toggleable content - dropdown */\n",
              "\n",
              "#sk-container-id-1 div.sk-toggleable__content {\n",
              "  max-height: 0;\n",
              "  max-width: 0;\n",
              "  overflow: hidden;\n",
              "  text-align: left;\n",
              "  /* unfitted */\n",
              "  background-color: var(--sklearn-color-unfitted-level-0);\n",
              "}\n",
              "\n",
              "#sk-container-id-1 div.sk-toggleable__content.fitted {\n",
              "  /* fitted */\n",
              "  background-color: var(--sklearn-color-fitted-level-0);\n",
              "}\n",
              "\n",
              "#sk-container-id-1 div.sk-toggleable__content pre {\n",
              "  margin: 0.2em;\n",
              "  border-radius: 0.25em;\n",
              "  color: var(--sklearn-color-text);\n",
              "  /* unfitted */\n",
              "  background-color: var(--sklearn-color-unfitted-level-0);\n",
              "}\n",
              "\n",
              "#sk-container-id-1 div.sk-toggleable__content.fitted pre {\n",
              "  /* unfitted */\n",
              "  background-color: var(--sklearn-color-fitted-level-0);\n",
              "}\n",
              "\n",
              "#sk-container-id-1 input.sk-toggleable__control:checked~div.sk-toggleable__content {\n",
              "  /* Expand drop-down */\n",
              "  max-height: 200px;\n",
              "  max-width: 100%;\n",
              "  overflow: auto;\n",
              "}\n",
              "\n",
              "#sk-container-id-1 input.sk-toggleable__control:checked~label.sk-toggleable__label-arrow:before {\n",
              "  content: \"▾\";\n",
              "}\n",
              "\n",
              "/* Pipeline/ColumnTransformer-specific style */\n",
              "\n",
              "#sk-container-id-1 div.sk-label input.sk-toggleable__control:checked~label.sk-toggleable__label {\n",
              "  color: var(--sklearn-color-text);\n",
              "  background-color: var(--sklearn-color-unfitted-level-2);\n",
              "}\n",
              "\n",
              "#sk-container-id-1 div.sk-label.fitted input.sk-toggleable__control:checked~label.sk-toggleable__label {\n",
              "  background-color: var(--sklearn-color-fitted-level-2);\n",
              "}\n",
              "\n",
              "/* Estimator-specific style */\n",
              "\n",
              "/* Colorize estimator box */\n",
              "#sk-container-id-1 div.sk-estimator input.sk-toggleable__control:checked~label.sk-toggleable__label {\n",
              "  /* unfitted */\n",
              "  background-color: var(--sklearn-color-unfitted-level-2);\n",
              "}\n",
              "\n",
              "#sk-container-id-1 div.sk-estimator.fitted input.sk-toggleable__control:checked~label.sk-toggleable__label {\n",
              "  /* fitted */\n",
              "  background-color: var(--sklearn-color-fitted-level-2);\n",
              "}\n",
              "\n",
              "#sk-container-id-1 div.sk-label label.sk-toggleable__label,\n",
              "#sk-container-id-1 div.sk-label label {\n",
              "  /* The background is the default theme color */\n",
              "  color: var(--sklearn-color-text-on-default-background);\n",
              "}\n",
              "\n",
              "/* On hover, darken the color of the background */\n",
              "#sk-container-id-1 div.sk-label:hover label.sk-toggleable__label {\n",
              "  color: var(--sklearn-color-text);\n",
              "  background-color: var(--sklearn-color-unfitted-level-2);\n",
              "}\n",
              "\n",
              "/* Label box, darken color on hover, fitted */\n",
              "#sk-container-id-1 div.sk-label.fitted:hover label.sk-toggleable__label.fitted {\n",
              "  color: var(--sklearn-color-text);\n",
              "  background-color: var(--sklearn-color-fitted-level-2);\n",
              "}\n",
              "\n",
              "/* Estimator label */\n",
              "\n",
              "#sk-container-id-1 div.sk-label label {\n",
              "  font-family: monospace;\n",
              "  font-weight: bold;\n",
              "  display: inline-block;\n",
              "  line-height: 1.2em;\n",
              "}\n",
              "\n",
              "#sk-container-id-1 div.sk-label-container {\n",
              "  text-align: center;\n",
              "}\n",
              "\n",
              "/* Estimator-specific */\n",
              "#sk-container-id-1 div.sk-estimator {\n",
              "  font-family: monospace;\n",
              "  border: 1px dotted var(--sklearn-color-border-box);\n",
              "  border-radius: 0.25em;\n",
              "  box-sizing: border-box;\n",
              "  margin-bottom: 0.5em;\n",
              "  /* unfitted */\n",
              "  background-color: var(--sklearn-color-unfitted-level-0);\n",
              "}\n",
              "\n",
              "#sk-container-id-1 div.sk-estimator.fitted {\n",
              "  /* fitted */\n",
              "  background-color: var(--sklearn-color-fitted-level-0);\n",
              "}\n",
              "\n",
              "/* on hover */\n",
              "#sk-container-id-1 div.sk-estimator:hover {\n",
              "  /* unfitted */\n",
              "  background-color: var(--sklearn-color-unfitted-level-2);\n",
              "}\n",
              "\n",
              "#sk-container-id-1 div.sk-estimator.fitted:hover {\n",
              "  /* fitted */\n",
              "  background-color: var(--sklearn-color-fitted-level-2);\n",
              "}\n",
              "\n",
              "/* Specification for estimator info (e.g. \"i\" and \"?\") */\n",
              "\n",
              "/* Common style for \"i\" and \"?\" */\n",
              "\n",
              ".sk-estimator-doc-link,\n",
              "a:link.sk-estimator-doc-link,\n",
              "a:visited.sk-estimator-doc-link {\n",
              "  float: right;\n",
              "  font-size: smaller;\n",
              "  line-height: 1em;\n",
              "  font-family: monospace;\n",
              "  background-color: var(--sklearn-color-background);\n",
              "  border-radius: 1em;\n",
              "  height: 1em;\n",
              "  width: 1em;\n",
              "  text-decoration: none !important;\n",
              "  margin-left: 1ex;\n",
              "  /* unfitted */\n",
              "  border: var(--sklearn-color-unfitted-level-1) 1pt solid;\n",
              "  color: var(--sklearn-color-unfitted-level-1);\n",
              "}\n",
              "\n",
              ".sk-estimator-doc-link.fitted,\n",
              "a:link.sk-estimator-doc-link.fitted,\n",
              "a:visited.sk-estimator-doc-link.fitted {\n",
              "  /* fitted */\n",
              "  border: var(--sklearn-color-fitted-level-1) 1pt solid;\n",
              "  color: var(--sklearn-color-fitted-level-1);\n",
              "}\n",
              "\n",
              "/* On hover */\n",
              "div.sk-estimator:hover .sk-estimator-doc-link:hover,\n",
              ".sk-estimator-doc-link:hover,\n",
              "div.sk-label-container:hover .sk-estimator-doc-link:hover,\n",
              ".sk-estimator-doc-link:hover {\n",
              "  /* unfitted */\n",
              "  background-color: var(--sklearn-color-unfitted-level-3);\n",
              "  color: var(--sklearn-color-background);\n",
              "  text-decoration: none;\n",
              "}\n",
              "\n",
              "div.sk-estimator.fitted:hover .sk-estimator-doc-link.fitted:hover,\n",
              ".sk-estimator-doc-link.fitted:hover,\n",
              "div.sk-label-container:hover .sk-estimator-doc-link.fitted:hover,\n",
              ".sk-estimator-doc-link.fitted:hover {\n",
              "  /* fitted */\n",
              "  background-color: var(--sklearn-color-fitted-level-3);\n",
              "  color: var(--sklearn-color-background);\n",
              "  text-decoration: none;\n",
              "}\n",
              "\n",
              "/* Span, style for the box shown on hovering the info icon */\n",
              ".sk-estimator-doc-link span {\n",
              "  display: none;\n",
              "  z-index: 9999;\n",
              "  position: relative;\n",
              "  font-weight: normal;\n",
              "  right: .2ex;\n",
              "  padding: .5ex;\n",
              "  margin: .5ex;\n",
              "  width: min-content;\n",
              "  min-width: 20ex;\n",
              "  max-width: 50ex;\n",
              "  color: var(--sklearn-color-text);\n",
              "  box-shadow: 2pt 2pt 4pt #999;\n",
              "  /* unfitted */\n",
              "  background: var(--sklearn-color-unfitted-level-0);\n",
              "  border: .5pt solid var(--sklearn-color-unfitted-level-3);\n",
              "}\n",
              "\n",
              ".sk-estimator-doc-link.fitted span {\n",
              "  /* fitted */\n",
              "  background: var(--sklearn-color-fitted-level-0);\n",
              "  border: var(--sklearn-color-fitted-level-3);\n",
              "}\n",
              "\n",
              ".sk-estimator-doc-link:hover span {\n",
              "  display: block;\n",
              "}\n",
              "\n",
              "/* \"?\"-specific style due to the `<a>` HTML tag */\n",
              "\n",
              "#sk-container-id-1 a.estimator_doc_link {\n",
              "  float: right;\n",
              "  font-size: 1rem;\n",
              "  line-height: 1em;\n",
              "  font-family: monospace;\n",
              "  background-color: var(--sklearn-color-background);\n",
              "  border-radius: 1rem;\n",
              "  height: 1rem;\n",
              "  width: 1rem;\n",
              "  text-decoration: none;\n",
              "  /* unfitted */\n",
              "  color: var(--sklearn-color-unfitted-level-1);\n",
              "  border: var(--sklearn-color-unfitted-level-1) 1pt solid;\n",
              "}\n",
              "\n",
              "#sk-container-id-1 a.estimator_doc_link.fitted {\n",
              "  /* fitted */\n",
              "  border: var(--sklearn-color-fitted-level-1) 1pt solid;\n",
              "  color: var(--sklearn-color-fitted-level-1);\n",
              "}\n",
              "\n",
              "/* On hover */\n",
              "#sk-container-id-1 a.estimator_doc_link:hover {\n",
              "  /* unfitted */\n",
              "  background-color: var(--sklearn-color-unfitted-level-3);\n",
              "  color: var(--sklearn-color-background);\n",
              "  text-decoration: none;\n",
              "}\n",
              "\n",
              "#sk-container-id-1 a.estimator_doc_link.fitted:hover {\n",
              "  /* fitted */\n",
              "  background-color: var(--sklearn-color-fitted-level-3);\n",
              "}\n",
              "</style><div id=\"sk-container-id-1\" class=\"sk-top-container\"><div class=\"sk-text-repr-fallback\"><pre>RandomForestClassifier(random_state=42)</pre><b>In a Jupyter environment, please rerun this cell to show the HTML representation or trust the notebook. <br />On GitHub, the HTML representation is unable to render, please try loading this page with nbviewer.org.</b></div><div class=\"sk-container\" hidden><div class=\"sk-item\"><div class=\"sk-estimator fitted sk-toggleable\"><input class=\"sk-toggleable__control sk-hidden--visually\" id=\"sk-estimator-id-1\" type=\"checkbox\" checked><label for=\"sk-estimator-id-1\" class=\"sk-toggleable__label fitted sk-toggleable__label-arrow fitted\">&nbsp;&nbsp;RandomForestClassifier<a class=\"sk-estimator-doc-link fitted\" rel=\"noreferrer\" target=\"_blank\" href=\"https://scikit-learn.org/1.4/modules/generated/sklearn.ensemble.RandomForestClassifier.html\">?<span>Documentation for RandomForestClassifier</span></a><span class=\"sk-estimator-doc-link fitted\">i<span>Fitted</span></span></label><div class=\"sk-toggleable__content fitted\"><pre>RandomForestClassifier(random_state=42)</pre></div> </div></div></div></div>"
            ],
            "text/plain": [
              "RandomForestClassifier(random_state=42)"
            ]
          },
          "execution_count": 4,
          "metadata": {},
          "output_type": "execute_result"
        }
      ],
      "source": [
        "# Train a RandomForestClassifier\n",
        "\n",
        "from sklearn.ensemble import RandomForestClassifier\n",
        "rf_clf = RandomForestClassifier(random_state=42)\n",
        "rf_clf.fit(X_train.values, y_train)"
      ]
    },
    {
      "cell_type": "code",
      "execution_count": 5,
      "metadata": {
        "colab": {
          "base_uri": "https://localhost:8080/",
          "height": 0
        },
        "id": "Dn6ChGX-Kizb",
        "outputId": "321a67d5-02e1-45c1-9311-292377e94b56"
      },
      "outputs": [
        {
          "data": {
            "text/plain": [
              "0.8565945033010901"
            ]
          },
          "execution_count": 5,
          "metadata": {},
          "output_type": "execute_result"
        }
      ],
      "source": [
        "# Evaluate the model\n",
        "accuracy = rf_clf.score(X_test.values, y_test)\n",
        "accuracy"
      ]
    },
    {
      "cell_type": "markdown",
      "metadata": {
        "id": "ckS2yD8MK3MZ"
      },
      "source": [
        "#### SHAP - Explanation"
      ]
    },
    {
      "cell_type": "code",
      "execution_count": 6,
      "metadata": {},
      "outputs": [
        {
          "data": {
            "text/html": [
              "<div>\n",
              "<style scoped>\n",
              "    .dataframe tbody tr th:only-of-type {\n",
              "        vertical-align: middle;\n",
              "    }\n",
              "\n",
              "    .dataframe tbody tr th {\n",
              "        vertical-align: top;\n",
              "    }\n",
              "\n",
              "    .dataframe thead th {\n",
              "        text-align: right;\n",
              "    }\n",
              "</style>\n",
              "<table border=\"1\" class=\"dataframe\">\n",
              "  <thead>\n",
              "    <tr style=\"text-align: right;\">\n",
              "      <th></th>\n",
              "      <th>Age</th>\n",
              "      <th>Workclass</th>\n",
              "      <th>Education-Num</th>\n",
              "      <th>Marital Status</th>\n",
              "      <th>Occupation</th>\n",
              "      <th>Relationship</th>\n",
              "      <th>Race</th>\n",
              "      <th>Sex</th>\n",
              "      <th>Capital Gain</th>\n",
              "      <th>Capital Loss</th>\n",
              "      <th>Hours per week</th>\n",
              "      <th>Country</th>\n",
              "    </tr>\n",
              "  </thead>\n",
              "  <tbody>\n",
              "    <tr>\n",
              "      <th>26048</th>\n",
              "      <td>30.0</td>\n",
              "      <td>4</td>\n",
              "      <td>10.0</td>\n",
              "      <td>4</td>\n",
              "      <td>8</td>\n",
              "      <td>3</td>\n",
              "      <td>4</td>\n",
              "      <td>0</td>\n",
              "      <td>0.0</td>\n",
              "      <td>0.0</td>\n",
              "      <td>40.0</td>\n",
              "      <td>39</td>\n",
              "    </tr>\n",
              "  </tbody>\n",
              "</table>\n",
              "</div>"
            ],
            "text/plain": [
              "        Age  Workclass  Education-Num  Marital Status  Occupation  \\\n",
              "26048  30.0          4           10.0               4           8   \n",
              "\n",
              "       Relationship  Race  Sex  Capital Gain  Capital Loss  Hours per week  \\\n",
              "26048             3     4    0           0.0           0.0            40.0   \n",
              "\n",
              "       Country  \n",
              "26048       39  "
            ]
          },
          "metadata": {},
          "output_type": "display_data"
        },
        {
          "name": "stdout",
          "output_type": "stream",
          "text": [
            "True label: False\n",
            "Predicted label: False\n"
          ]
        }
      ],
      "source": [
        "# Consider an instance\n",
        "id_instance = 0\n",
        "\n",
        "instance_i, label_i = X_test.iloc[[id_instance]], y_test[0]\n",
        "instance_i_display = X_display_test.iloc[[id_instance]]\n",
        "\n",
        "predicted_class_i = rf_clf.predict(instance_i.values)[0]\n",
        "display(instance_i)\n",
        "print(f'True label: {label_i}')\n",
        "print(f'Predicted label: {predicted_class_i}')\n",
        "\n",
        "# Index of the predicted class\n",
        "predicted_index = np.argmax(rf_clf.predict_proba(instance_i.values)[0])"
      ]
    },
    {
      "cell_type": "code",
      "execution_count": 7,
      "metadata": {},
      "outputs": [],
      "source": [
        "# Compute the masker\n",
        "masker = shap.maskers.Independent(data = X_train.values)\n",
        "\n",
        "# Instanciate the shap.Explainer\n",
        "explainer = shap.Explainer(rf_clf.predict_proba, masker=masker)\n",
        "\n",
        "# Calculate the explainer over the sample_data\n",
        "shap_values_explanation = explainer(instance_i)\n",
        "\n",
        "# Estimated shapley values for the predicted class\n",
        "shap_values_i = shap_values_explanation.values[:, :, predicted_index][0]"
      ]
    },
    {
      "cell_type": "code",
      "execution_count": 8,
      "metadata": {},
      "outputs": [
        {
          "data": {
            "text/plain": [
              "Text(0.5, 1.0, 'Shapley values for instance 0 \\n w.r.t 0. Predicted class: False')"
            ]
          },
          "execution_count": 8,
          "metadata": {},
          "output_type": "execute_result"
        },
        {
          "data": {
            "image/png": "[encoded data removed]",
            "text/plain": [
              "<Figure size 640x480 with 1 Axes>"
            ]
          },
          "metadata": {},
          "output_type": "display_data"
        }
      ],
      "source": [
        "# Plot the shapley values\n",
        "\n",
        "sorted_indices = np.argsort(shap_values_i)\n",
        "feature_names_values = np.array([f'{f}={value}' for f, value in zip(instance_i_display.columns, instance_i_display.values[0])])\n",
        "\n",
        "# Plot SHAP values\n",
        "plt.barh(feature_names_values[sorted_indices], shap_values_i[sorted_indices])\n",
        "\n",
        "# Plot title\n",
        "plt.title(f'Shapley values for instance {id_instance} \\n w.r.t {predicted_index}. Predicted class: {predicted_class_i}')\n"
      ]
    },
    {
      "cell_type": "markdown",
      "metadata": {
        "id": "R572QavRWyVd"
      },
      "source": [
        "# **Exercises:**"
      ]
    },
    {
      "cell_type": "markdown",
      "metadata": {},
      "source": [
        "## Single deletion\n",
        "\n",
        "---\n",
        "\n",
        "\n",
        "Single Deletion\n",
        "\n",
        ">> Evaluates the change in output when removing/perturbing one feature\n",
        "\n",
        "* Omitting the feature with the highest importance score for the explanation\n",
        "should lead the highest change in the output of $f$\n",
        "* Omitting the one with least importance should have no impact\n",
        "* Omitting a feature that as no effect on the output should have importance 0\n",
        "\n",
        "**Exercixe A - Study the impact of removing the most important feature**\n",
        "\n",
        "1. Identify the most important feature for the prediction\n",
        "Given the SHAP feature attribution score for the prediction of the instance $0$, identify the most important one (highest score)\n",
        "\n",
        "2. Apply the single deletion of the most important feature\n",
        "\n",
        "* Remove the most important feature\n",
        "* Compute the prediction change of the perturbed instance with the original prediction probability\n",
        "* Analyze the drop in the prediction change"
      ]
    },
    {
      "cell_type": "markdown",
      "metadata": {},
      "source": [
        "#### 1. Which is the most important feature?"
      ]
    },
    {
      "cell_type": "code",
      "execution_count": 9,
      "metadata": {},
      "outputs": [
        {
          "name": "stdout",
          "output_type": "stream",
          "text": [
            "Most important feature: Relationship= Own-child; encoded: Relationship = 3.0\n"
          ]
        }
      ],
      "source": [
        "idx_max = np.argmax(shap_values_i)\n",
        "\n",
        "\n",
        "most_important_attribute = instance_i_display.columns[idx_max]\n",
        "most_important_encoded_value = instance_i.values[0][idx_max]\n",
        "most_important_attribute_value = feature_names_values[idx_max]\n",
        "\n",
        "print(f'Most important feature: {most_important_attribute_value}; encoded: {most_important_attribute} = {most_important_encoded_value}')"
      ]
    },
    {
      "cell_type": "markdown",
      "metadata": {},
      "source": [
        "#### 2. Remove just the most important feature."
      ]
    },
    {
      "cell_type": "markdown",
      "metadata": {},
      "source": [
        "Compute the change in the prediction when we remove the most important feature\n",
        "\n",
        ">> How to mimic the removal. Examples:\n",
        "\n",
        "\n",
        "** Option (i)  we can remove it by replacing the value of the most important attribute with a random one.\n",
        "\n",
        "** Option (ii) we replace the value of the most important feature iteratively with all the other possible values, we measure how the prediction changes and compute the average change in the prediction.\n",
        "\n",
        "** Option (ii) we replace the values of the most importan feature $M$ times with the attribute value of randomly sampled instances."
      ]
    },
    {
      "cell_type": "code",
      "execution_count": 10,
      "metadata": {},
      "outputs": [
        {
          "name": "stdout",
          "output_type": "stream",
          "text": [
            "Value: 4;  Prediction: 0.8792785547785548; Difference: 0.1207\n",
            "Value: 0;  Prediction: 0.99; Difference: 0.0100\n",
            "Value: 3;  Prediction: 1.0; Difference: 0.0000\n",
            "Value: 1;  Prediction: 1.0; Difference: 0.0000\n",
            "Value: 5;  Prediction: 0.9505; Difference: 0.0495\n",
            "Value: 2;  Prediction: 1.0; Difference: 0.0000\n",
            "Average difference in prediction when removing the most important feature: 0.0300\n"
          ]
        }
      ],
      "source": [
        "# In this example, we will perturb the most important feature by changing its value to all possible values and calculate the difference in prediction.\n",
        "\n",
        "prediction_orig = rf_clf.predict_proba(instance_i.values)[0][predicted_index]\n",
        "\n",
        "single_removal = 0\n",
        "\n",
        "for value, freq in dict(X_train[most_important_attribute].value_counts()).items():\n",
        "        instance_perturbed = instance_i.copy()\n",
        "        instance_perturbed[most_important_attribute] = value\n",
        "        prob_pert = rf_clf.predict_proba(instance_perturbed.values)[0][predicted_index]\n",
        "        # Difference in prediction\n",
        "        diff = prediction_orig - prob_pert\n",
        "        print(f'Value: {value};  Prediction: {prob_pert}; Difference: {diff:.4f}')\n",
        "        # Accumulate the difference\n",
        "        single_removal += diff\n",
        "\n",
        "single_removal/=len(X_train[most_important_attribute].unique())\n",
        "\n",
        "print(f'Average difference in prediction when removing the most important feature: {single_removal:.4f}')"
      ]
    },
    {
      "cell_type": "markdown",
      "metadata": {},
      "source": [
        "Does this alone explain the prediction?"
      ]
    },
    {
      "cell_type": "markdown",
      "metadata": {},
      "source": [
        "## Iterative deletion of the most important feature\n",
        "\n",
        "---\n",
        "\n",
        "\n",
        ">> Evaluates the change in output when iteratively removing/perturbing features\n",
        "\n",
        "* We can omit in descending order (from the most important to the least) or ascending order\n",
        "* Often we removed subsets, e.g., top-k most influential and least\n",
        "* The impact is then summarized, e.g., Area over the Perturbation Curve, average difference in prediction scores by f\n",
        "\n",
        "**Exercixe B - Study the impact of removing the top-K important feature**\n",
        "\n",
        "1. Identify the top-K most important feature for the prediction\n",
        "Given the SHAP feature attribution score for the prediction of the instance $0$, identify the top K important ones (highest scores)\n",
        "\n",
        "2. Apply the iterative deletion of the K important features\n",
        "\n",
        "* Remove iteratively the K most important features, from the most important to the top-K and compute the prediction change\n",
        "* Compute the average prediction change\n",
        "\n",
        "Note that we are measuring if the top-K feature are comprehensive. If they are comprehensive, they capture most of the information and hence we expect a high drop in prediction probability. We define this measure as **comprehensiveness**\n",
        "\n",
        "3. Apply the iterative deletion for random features\n",
        "\n",
        "* Reapply the process but for random K features. We investigate whether the drop is change is indeed larger for the features highlighted by SHAP\n",
        "\n",
        "4. Compare the score for the delition of the top-K features for SHAP and random removal\n",
        "\n",
        "\n"
      ]
    },
    {
      "cell_type": "markdown",
      "metadata": {},
      "source": [
        "#### 1. Which are the K=5 most important features?"
      ]
    },
    {
      "cell_type": "code",
      "execution_count": 11,
      "metadata": {},
      "outputs": [
        {
          "name": "stdout",
          "output_type": "stream",
          "text": [
            "Most important features: ['Relationship', 'Marital Status', 'Occupation', 'Age', 'Capital Gain']\n",
            "Most important attibute values: ['Relationship= Own-child' 'Marital Status= Never-married'\n",
            " 'Occupation= Other-service' 'Age=30.0' 'Capital Gain=0.0']\n"
          ]
        }
      ],
      "source": [
        "# argsort in descending order\n",
        "sorted_indices = np.argsort(shap_values_i)[::-1]\n",
        "\n",
        "top_K = 5\n",
        "\n",
        "print('Most important features:',  list(X_train.columns[sorted_indices[:top_K]]))\n",
        "print('Most important attibute values:', feature_names_values[sorted_indices[:top_K]])"
      ]
    },
    {
      "cell_type": "markdown",
      "metadata": {},
      "source": [
        "#### 2. Compute the iterative removal of the top-K most important features"
      ]
    },
    {
      "cell_type": "markdown",
      "metadata": {},
      "source": [
        "In this case, we mimic the removal of a set of feature by replacing the values of the most important features $M$ times with the attribute value of randomly sampled instances.\n",
        "\n",
        "We set $M$ = 50"
      ]
    },
    {
      "cell_type": "code",
      "execution_count": 12,
      "metadata": {},
      "outputs": [
        {
          "name": "stdout",
          "output_type": "stream",
          "text": [
            "Iterative removal: [0.06252629 0.09610329 0.10679371 0.20563079 0.22907463]\n",
            "0.14002574503274504\n"
          ]
        }
      ],
      "source": [
        "import random\n",
        "\n",
        "n_random_iterations = 50\n",
        "\n",
        "# We will iteratively remove the top k features\n",
        "\n",
        "iterative_removal = np.zeros(top_K)\n",
        "\n",
        "for k in range(top_K):\n",
        "    top_idxs = sorted_indices[:k+1]\n",
        "\n",
        "    for m in range(n_random_iterations):\n",
        "\n",
        "        # Copy the instance\n",
        "        instance_perturbed = instance_i.values[0].copy() \n",
        "\n",
        "        # Randomly select an index\n",
        "        random_idx = random.randint(0, X_train.shape[0])\n",
        "        \n",
        "        # Replace the value of the most important feature with the value of the random instance\n",
        "        instance_perturbed[top_idxs] = X_train.iloc[random_idx].values[top_idxs]\n",
        "        \n",
        "        # Predict the perturbed instance\n",
        "        prob_pert = rf_clf.predict_proba(instance_perturbed.reshape(1, -1))[0][predicted_index]\n",
        "        \n",
        "        # Difference in prediction\n",
        "        diff = prediction_orig - prob_pert\n",
        "        \n",
        "        # Accumulate the difference\n",
        "        iterative_removal[k] += diff\n",
        "\n",
        "    iterative_removal[k] /= n_random_iterations\n",
        "\n",
        "print('Iterative removal:', iterative_removal)\n",
        "\n",
        "comprehensiveness = sum(iterative_removal)/top_K\n",
        "\n",
        "print(comprehensiveness)"
      ]
    },
    {
      "cell_type": "markdown",
      "metadata": {},
      "source": [
        "#### 3. Repeat the process but using a random explanation\n",
        "\n",
        "Compute the iterative removal for K random features"
      ]
    },
    {
      "cell_type": "code",
      "execution_count": 13,
      "metadata": {},
      "outputs": [
        {
          "name": "stdout",
          "output_type": "stream",
          "text": [
            "Random iterative removal: [0.0052     0.0112     0.0054     0.06913714 0.08232857]\n",
            "0.03465314285714287\n"
          ]
        }
      ],
      "source": [
        "import random\n",
        "\n",
        "random.seed(42)\n",
        "\n",
        "random_indexes = np.random.choice(X_train.shape[1], X_train.shape[1], replace=False)\n",
        "\n",
        "n_random_iterations = 50\n",
        "\n",
        "# We will iteratively remove the top k features\n",
        "\n",
        "random_iterative_removal = np.zeros(top_K)\n",
        "\n",
        "for k in range(top_K):\n",
        "    top_idxs = random_indexes[:k+1]\n",
        "\n",
        "    for m in range(n_random_iterations):\n",
        "\n",
        "        # Copy the instance\n",
        "        instance_perturbed = instance_i.values[0].copy() \n",
        "\n",
        "        # Randomly select an index\n",
        "        random_idx = random.randint(0, X_train.shape[0])\n",
        "        \n",
        "        # Replace the value of the most important feature with the value of the random instance\n",
        "        instance_perturbed[top_idxs] = X_train.iloc[random_idx].values[top_idxs]\n",
        "        \n",
        "        # Predict the perturbed instance\n",
        "        prob_pert = rf_clf.predict_proba(instance_perturbed.reshape(1, -1))[0][predicted_index]\n",
        "        \n",
        "        # Difference in prediction\n",
        "        diff = prediction_orig - prob_pert\n",
        "        \n",
        "        # Accumulate the difference\n",
        "        random_iterative_removal[k] += diff\n",
        "\n",
        "    random_iterative_removal[k] /= n_random_iterations\n",
        "\n",
        "print('Random iterative removal:', random_iterative_removal)\n",
        "\n",
        "random_comprehensiveness = sum(random_iterative_removal)/top_K\n",
        "\n",
        "print(random_comprehensiveness)"
      ]
    },
    {
      "cell_type": "markdown",
      "metadata": {},
      "source": [
        "#### 4. Compare the deletion of the most important feature with the random deletion of features"
      ]
    },
    {
      "cell_type": "code",
      "execution_count": 14,
      "metadata": {},
      "outputs": [
        {
          "data": {
            "text/plain": [
              "(0.14002574503274504, 0.03465314285714287)"
            ]
          },
          "execution_count": 14,
          "metadata": {},
          "output_type": "execute_result"
        }
      ],
      "source": [
        "comprehensiveness, random_comprehensiveness"
      ]
    },
    {
      "cell_type": "markdown",
      "metadata": {},
      "source": [
        "## Correlation with Leave-One-Out"
      ]
    },
    {
      "cell_type": "markdown",
      "metadata": {},
      "source": [
        "**Exercixe C - Analyze the correlation with Leave-One-Out**\n",
        "\n",
        "\n",
        "Compute the Leave-One-Out (LOO) importance and compare it with the SHAP values using the rank correlation.\n",
        "\n",
        "LOO importance is a basic explainer computed by removing one feature at a time and computing the difference in prediction. \n",
        "\n",
        "A measure of faithfulness is the correlation with LOO explanations."
      ]
    },
    {
      "cell_type": "markdown",
      "metadata": {},
      "source": [
        "####  1. Compute the Leave-One-Out (LOO) importance"
      ]
    },
    {
      "cell_type": "markdown",
      "metadata": {},
      "source": [
        "The LOO importance is computed by removing one feature at a time and computing the difference in prediction. "
      ]
    },
    {
      "cell_type": "code",
      "execution_count": 15,
      "metadata": {},
      "outputs": [],
      "source": [
        "leave_one_out_importance = {}\n",
        "\n",
        "for attr_ix, attribute_name in enumerate(X_train.columns):\n",
        "    single_removal = 0\n",
        "    prediction_orig = rf_clf.predict_proba(instance_i.values)[0][predicted_index]\n",
        "    for value, freq in dict(X_train[attribute_name].value_counts()).items():\n",
        "        instance_perturbed = instance_i.copy()\n",
        "        instance_perturbed[attribute_name] = value\n",
        "        prob_pert = rf_clf.predict_proba(instance_perturbed.values)[0][predicted_index]\n",
        "        diff = prediction_orig - prob_pert\n",
        "        single_removal += diff*freq/len(X_train)\n",
        "\n",
        "    single_removal /= len(X_train[attribute_name].unique())\n",
        "    leave_one_out_importance[feature_names_values[attr_ix]] = single_removal"
      ]
    },
    {
      "cell_type": "markdown",
      "metadata": {},
      "source": [
        "#### 2. Plot the leave-one-out importance"
      ]
    },
    {
      "cell_type": "code",
      "execution_count": 16,
      "metadata": {},
      "outputs": [
        {
          "data": {
            "text/plain": [
              "<BarContainer object of 12 artists>"
            ]
          },
          "execution_count": 16,
          "metadata": {},
          "output_type": "execute_result"
        },
        {
          "data": {
            "image/png": "[encoded data removed]",
            "text/plain": [
              "<Figure size 640x480 with 1 Axes>"
            ]
          },
          "metadata": {},
          "output_type": "display_data"
        }
      ],
      "source": [
        "# Sort dictionary by values\n",
        "leave_one_out_importance = dict(sorted(leave_one_out_importance.items(), key=lambda item: item[1]))\n",
        "\n",
        "# Plot LOO values\n",
        "plt.barh(list(leave_one_out_importance.keys()), list(leave_one_out_importance.values()))\n"
      ]
    },
    {
      "cell_type": "markdown",
      "metadata": {},
      "source": [
        "#### 3. Visually compare the importance from the SHAP scores with the leave-one-out importance\n",
        "\n",
        "Plot the two explanations provided by SHAP and LOO"
      ]
    },
    {
      "cell_type": "code",
      "execution_count": 17,
      "metadata": {},
      "outputs": [
        {
          "data": {
            "image/png": "[encoded data removed]",
            "text/plain": [
              "<Figure size 1000x500 with 2 Axes>"
            ]
          },
          "metadata": {},
          "output_type": "display_data"
        }
      ],
      "source": [
        "fig, axs = plt.subplots(1, 2, figsize=(10, 5))\n",
        "\n",
        "sorted_indices = np.argsort(shap_values_i)\n",
        "\n",
        "# Plot SHAP values\n",
        "shap_values_dict = {k:v  for  k, v in zip(feature_names_values[sorted_indices], shap_values_i[sorted_indices])}\n",
        "\n",
        "axs[0].barh(list(shap_values_dict.keys() ),list(shap_values_dict.values()))\n",
        "axs[0].set_title(f'Shapley values for instance {id_instance} \\n w.r.t {predicted_index}. Predicted class: {predicted_class_i}')\n",
        "\n",
        "# Sort the removal importance via the values of the SHAP values\n",
        "leave_one_out_importance_dict = {k: leave_one_out_importance[k] for k in shap_values_dict.keys()}\n",
        "axs[1].barh(list(leave_one_out_importance_dict.keys()), list(leave_one_out_importance_dict.values()))\n",
        "axs[1].set_title('Removal importance')\n",
        "# Remove the xtiks from the second plot\n",
        "axs[1].set_yticklabels([])\n",
        "plt.tight_layout()\n",
        "plt.show()"
      ]
    },
    {
      "cell_type": "markdown",
      "metadata": {},
      "source": [
        "#### 4. Compute the rank correlation between the SHAP values and the leave-one-out importance\n",
        "\n",
        "Compare the two explanation by computing a rank similarity score. For eaxample, use the spearmanr"
      ]
    },
    {
      "cell_type": "code",
      "execution_count": 18,
      "metadata": {},
      "outputs": [
        {
          "data": {
            "text/plain": [
              "SignificanceResult(statistic=0.7075317330217298, pvalue=0.010054355455185422)"
            ]
          },
          "execution_count": 18,
          "metadata": {},
          "output_type": "execute_result"
        }
      ],
      "source": [
        "from scipy import stats\n",
        "res = stats.spearmanr(list(shap_values_dict.values()), list(leave_one_out_importance_dict.values()))\n",
        "res"
      ]
    },
    {
      "cell_type": "markdown",
      "metadata": {},
      "source": [
        "## Iterative deletion of the least important feature\n",
        "\n",
        "\n",
        "---\n",
        "\n",
        "\n",
        ">> Evaluates the change in output when iteratively removing/perturbing features the least important. We expect a null or small average change i the prediction probability\n",
        "\n",
        "**Exercixe D - Study the impact of removing the least-K important feature**\n",
        "\n",
        "1. Identify the least-K most important feature for the prediction\n",
        "Given the SHAP feature attribution score for the prediction of the instance $0$, identify the least K important ones (lowest score)\n",
        "\n",
        "2. Apply the iterative deletion of the K important features\n",
        "\n",
        "* Remove iteratively the K most important features, from the most important to the top-K and compute the prediction change\n",
        "* Compute the average prediction change\n",
        "\n",
        "Note that we are measuring if the top-K feature are sufficient. If they are suffient, they capture **alone** most of the information and hence we expect a null or small drop in prediction probability. We define this measure as **sufficiency**\n",
        "\n",
        "3. Apply the iterative deletion for random features\n",
        "\n",
        "* Reapply the process but for random K features. \n",
        "\n",
        "4. Compare the score for the delition of the least-K features for SHAP and random removal\n"
      ]
    },
    {
      "cell_type": "markdown",
      "metadata": {},
      "source": [
        "#### 1. Which are the K=5 least important features?"
      ]
    },
    {
      "cell_type": "code",
      "execution_count": 19,
      "metadata": {},
      "outputs": [
        {
          "name": "stdout",
          "output_type": "stream",
          "text": [
            "Least important features: ['Race', 'Country', 'Workclass', 'Capital Loss', 'Sex']\n",
            "Least important attibute values: ['Race= White' 'Country= United-States' 'Workclass= Private'\n",
            " 'Capital Loss=0.0' 'Sex= Female']\n"
          ]
        }
      ],
      "source": [
        "# argsort in descending order\n",
        "sorted_indices_least = np.argsort(shap_values_i)\n",
        "\n",
        "top_K = 5\n",
        "\n",
        "print('Least important features:',  list(X_train.columns[sorted_indices_least[:top_K]]))\n",
        "print('Least important attibute values:', feature_names_values[sorted_indices_least[:top_K]])"
      ]
    },
    {
      "cell_type": "markdown",
      "metadata": {},
      "source": [
        "#### 2. Compute the iterative removal of the K least important features"
      ]
    },
    {
      "cell_type": "code",
      "execution_count": 20,
      "metadata": {},
      "outputs": [
        {
          "name": "stdout",
          "output_type": "stream",
          "text": [
            "Iterative removal: [0.     0.0006 0.0062 0.0114 0.0144]\n",
            "0.006520000000000001\n"
          ]
        }
      ],
      "source": [
        "import random\n",
        "\n",
        "n_random_iterations = 50\n",
        "\n",
        "prediction_orig = rf_clf.predict_proba(instance_i.values)[0][predicted_index]\n",
        "\n",
        "# We will iteratively remove the top k features\n",
        "\n",
        "iterative_removal = np.zeros(top_K)\n",
        "\n",
        "for k in range(top_K):\n",
        "    top_idxs = sorted_indices_least[:k+1]\n",
        "\n",
        "    for m in range(n_random_iterations):\n",
        "\n",
        "        # Copy the instance\n",
        "        instance_perturbed = instance_i.values[0].copy() \n",
        "\n",
        "        # Randomly select an index\n",
        "        random_idx = random.randint(0, X_train.shape[0])\n",
        "        \n",
        "        # Replace the value of the most important feature with the value of the random instance\n",
        "        instance_perturbed[top_idxs] = X_train.iloc[random_idx].values[top_idxs]\n",
        "        \n",
        "        # Predict the perturbed instance\n",
        "        prob_pert = rf_clf.predict_proba(instance_perturbed.reshape(1, -1))[0][predicted_index]\n",
        "        \n",
        "        # Difference in prediction\n",
        "        diff = prediction_orig - prob_pert\n",
        "        \n",
        "        # Accumulate the difference\n",
        "        iterative_removal[k] += diff\n",
        "\n",
        "    iterative_removal[k] /= n_random_iterations\n",
        "\n",
        "print('Iterative removal:', iterative_removal)\n",
        "\n",
        "sufficiency = sum(iterative_removal)/top_K\n",
        "\n",
        "print(sufficiency)"
      ]
    },
    {
      "cell_type": "markdown",
      "metadata": {},
      "source": [
        "#### 3. Repeat the process but using a random explanation"
      ]
    },
    {
      "cell_type": "code",
      "execution_count": 21,
      "metadata": {},
      "outputs": [
        {
          "name": "stdout",
          "output_type": "stream",
          "text": [
            "Random iterative removal: [0.003      0.11702857 0.151302   0.18556076 0.17398538]\n",
            "0.126175343989344\n"
          ]
        }
      ],
      "source": [
        "import random\n",
        "\n",
        "random.seed(42)\n",
        "\n",
        "random_indexes = np.random.choice(X_train.shape[1], X_train.shape[1], replace=False)\n",
        "\n",
        "n_random_iterations = 50\n",
        "\n",
        "# We will iteratively remove the top k features\n",
        "\n",
        "random_iterative_removal = np.zeros(top_K)\n",
        "\n",
        "for k in range(top_K):\n",
        "    top_idxs = random_indexes[:k+1]\n",
        "\n",
        "    for m in range(n_random_iterations):\n",
        "\n",
        "        # Copy the instance\n",
        "        instance_perturbed = instance_i.values[0].copy() \n",
        "\n",
        "        # Randomly select an index\n",
        "        random_idx = random.randint(0, X_train.shape[0])\n",
        "        \n",
        "        # Replace the value of the most important feature with the value of the random instance\n",
        "        instance_perturbed[top_idxs] = X_train.iloc[random_idx].values[top_idxs]\n",
        "        \n",
        "        # Predict the perturbed instance\n",
        "        prob_pert = rf_clf.predict_proba(instance_perturbed.reshape(1, -1))[0][predicted_index]\n",
        "        \n",
        "        # Difference in prediction\n",
        "        diff = prediction_orig - prob_pert\n",
        "        \n",
        "        # Accumulate the difference\n",
        "        random_iterative_removal[k] += diff\n",
        "\n",
        "    random_iterative_removal[k] /= n_random_iterations\n",
        "\n",
        "print('Random iterative removal:', random_iterative_removal)\n",
        "\n",
        "random_sufficiency = sum(random_iterative_removal)/top_K\n",
        "\n",
        "print(random_sufficiency)"
      ]
    },
    {
      "cell_type": "markdown",
      "metadata": {},
      "source": [
        "#### 4. Compare the deletion of the most important feature with the random deletion of features"
      ]
    },
    {
      "cell_type": "code",
      "execution_count": 22,
      "metadata": {},
      "outputs": [
        {
          "data": {
            "text/plain": [
              "(0.006520000000000001, 0.126175343989344)"
            ]
          },
          "execution_count": 22,
          "metadata": {},
          "output_type": "execute_result"
        }
      ],
      "source": [
        "sufficiency, random_sufficiency"
      ]
    }
  ],
  "metadata": {
    "colab": {
      "provenance": []
    },
    "kernelspec": {
      "display_name": "Python 3",
      "name": "python3"
    },
    "language_info": {
      "codemirror_mode": {
        "name": "ipython",
        "version": 3
      },
      "file_extension": ".py",
      "mimetype": "text/x-python",
      "name": "python",
      "nbconvert_exporter": "python",
      "pygments_lexer": "ipython3",
      "version": "3.12.3"
    },
    "widgets": {
      "application/vnd.jupyter.widget-state+json": {
        "043bf8398e3a4067bf98e362dda74964": {
          "model_module": "@jupyter-widgets/base",
          "model_module_version": "1.2.0",
          "model_name": "LayoutModel",
          "state": {
            "_model_module": "@jupyter-widgets/base",
            "_model_module_version": "1.2.0",
            "_model_name": "LayoutModel",
            "_view_count": null,
            "_view_module": "@jupyter-widgets/base",
            "_view_module_version": "1.2.0",
            "_view_name": "LayoutView",
            "align_content": null,
            "align_items": null,
            "align_self": null,
            "border": null,
            "bottom": null,
            "display": null,
            "flex": null,
            "flex_flow": null,
            "grid_area": null,
            "grid_auto_columns": null,
            "grid_auto_flow": null,
            "grid_auto_rows": null,
            "grid_column": null,
            "grid_gap": null,
            "grid_row": null,
            "grid_template_areas": null,
            "grid_template_columns": null,
            "grid_template_rows": null,
            "height": null,
            "justify_content": null,
            "justify_items": null,
            "left": null,
            "margin": null,
            "max_height": null,
            "max_width": null,
            "min_height": null,
            "min_width": null,
            "object_fit": null,
            "object_position": null,
            "order": null,
            "overflow": null,
            "overflow_x": null,
            "overflow_y": null,
            "padding": null,
            "right": null,
            "top": null,
            "visibility": null,
            "width": null
          }
        },
        "069e06a02e99428c85e84c193df2c410": {
          "model_module": "@jupyter-widgets/controls",
          "model_module_version": "1.5.0",
          "model_name": "ProgressStyleModel",
          "state": {
            "_model_module": "@jupyter-widgets/controls",
            "_model_module_version": "1.5.0",
            "_model_name": "ProgressStyleModel",
            "_view_count": null,
            "_view_module": "@jupyter-widgets/base",
            "_view_module_version": "1.2.0",
            "_view_name": "StyleView",
            "bar_color": null,
            "description_width": ""
          }
        },
        "124e1d036f204ee88b782ef395aec0e0": {
          "model_module": "@jupyter-widgets/controls",
          "model_module_version": "1.5.0",
          "model_name": "DescriptionStyleModel",
          "state": {
            "_model_module": "@jupyter-widgets/controls",
            "_model_module_version": "1.5.0",
            "_model_name": "DescriptionStyleModel",
            "_view_count": null,
            "_view_module": "@jupyter-widgets/base",
            "_view_module_version": "1.2.0",
            "_view_name": "StyleView",
            "description_width": ""
          }
        },
        "33e102068dd447b5969ff889035f8384": {
          "model_module": "@jupyter-widgets/controls",
          "model_module_version": "1.5.0",
          "model_name": "FloatProgressModel",
          "state": {
            "_dom_classes": [],
            "_model_module": "@jupyter-widgets/controls",
            "_model_module_version": "1.5.0",
            "_model_name": "FloatProgressModel",
            "_view_count": null,
            "_view_module": "@jupyter-widgets/controls",
            "_view_module_version": "1.5.0",
            "_view_name": "ProgressView",
            "bar_style": "success",
            "description": "",
            "description_tooltip": null,
            "layout": "IPY_MODEL_043bf8398e3a4067bf98e362dda74964",
            "max": 11,
            "min": 0,
            "orientation": "horizontal",
            "style": "IPY_MODEL_069e06a02e99428c85e84c193df2c410",
            "value": 11
          }
        },
        "3480b0c0d2b741a9904d960adecbbd13": {
          "model_module": "@jupyter-widgets/controls",
          "model_module_version": "1.5.0",
          "model_name": "HTMLModel",
          "state": {
            "_dom_classes": [],
            "_model_module": "@jupyter-widgets/controls",
            "_model_module_version": "1.5.0",
            "_model_name": "HTMLModel",
            "_view_count": null,
            "_view_module": "@jupyter-widgets/controls",
            "_view_module_version": "1.5.0",
            "_view_name": "HTMLView",
            "description": "",
            "description_tooltip": null,
            "layout": "IPY_MODEL_607e91a9321a43e19d1f346a3dc8ce4b",
            "placeholder": "​",
            "style": "IPY_MODEL_86f406854a674bdc93739becf149d427",
            "value": "100%"
          }
        },
        "493373ee240d445eb7612514e18a171c": {
          "model_module": "@jupyter-widgets/controls",
          "model_module_version": "1.5.0",
          "model_name": "HBoxModel",
          "state": {
            "_dom_classes": [],
            "_model_module": "@jupyter-widgets/controls",
            "_model_module_version": "1.5.0",
            "_model_name": "HBoxModel",
            "_view_count": null,
            "_view_module": "@jupyter-widgets/controls",
            "_view_module_version": "1.5.0",
            "_view_name": "HBoxView",
            "box_style": "",
            "children": [
              "IPY_MODEL_8c332dd8999646d094c1071b2f0710f7",
              "IPY_MODEL_b7a61311859e49fd8a773b580577d9aa",
              "IPY_MODEL_4d1228899fdc4c50b9b9b4f9b1d149a1"
            ],
            "layout": "IPY_MODEL_8b79d58840bd4dd2b50483a317513d4a"
          }
        },
        "4d1228899fdc4c50b9b9b4f9b1d149a1": {
          "model_module": "@jupyter-widgets/controls",
          "model_module_version": "1.5.0",
          "model_name": "HTMLModel",
          "state": {
            "_dom_classes": [],
            "_model_module": "@jupyter-widgets/controls",
            "_model_module_version": "1.5.0",
            "_model_name": "HTMLModel",
            "_view_count": null,
            "_view_module": "@jupyter-widgets/controls",
            "_view_module_version": "1.5.0",
            "_view_name": "HTMLView",
            "description": "",
            "description_tooltip": null,
            "layout": "IPY_MODEL_9d9176d506f24a979ed74e7e7ea47949",
            "placeholder": "​",
            "style": "IPY_MODEL_124e1d036f204ee88b782ef395aec0e0",
            "value": " 11/11 [00:01&lt;00:00,  6.32it/s]"
          }
        },
        "5ef4b3b11c654b91af442ef168a926cf": {
          "model_module": "@jupyter-widgets/controls",
          "model_module_version": "1.5.0",
          "model_name": "DescriptionStyleModel",
          "state": {
            "_model_module": "@jupyter-widgets/controls",
            "_model_module_version": "1.5.0",
            "_model_name": "DescriptionStyleModel",
            "_view_count": null,
            "_view_module": "@jupyter-widgets/base",
            "_view_module_version": "1.2.0",
            "_view_name": "StyleView",
            "description_width": ""
          }
        },
        "607e91a9321a43e19d1f346a3dc8ce4b": {
          "model_module": "@jupyter-widgets/base",
          "model_module_version": "1.2.0",
          "model_name": "LayoutModel",
          "state": {
            "_model_module": "@jupyter-widgets/base",
            "_model_module_version": "1.2.0",
            "_model_name": "LayoutModel",
            "_view_count": null,
            "_view_module": "@jupyter-widgets/base",
            "_view_module_version": "1.2.0",
            "_view_name": "LayoutView",
            "align_content": null,
            "align_items": null,
            "align_self": null,
            "border": null,
            "bottom": null,
            "display": null,
            "flex": null,
            "flex_flow": null,
            "grid_area": null,
            "grid_auto_columns": null,
            "grid_auto_flow": null,
            "grid_auto_rows": null,
            "grid_column": null,
            "grid_gap": null,
            "grid_row": null,
            "grid_template_areas": null,
            "grid_template_columns": null,
            "grid_template_rows": null,
            "height": null,
            "justify_content": null,
            "justify_items": null,
            "left": null,
            "margin": null,
            "max_height": null,
            "max_width": null,
            "min_height": null,
            "min_width": null,
            "object_fit": null,
            "object_position": null,
            "order": null,
            "overflow": null,
            "overflow_x": null,
            "overflow_y": null,
            "padding": null,
            "right": null,
            "top": null,
            "visibility": null,
            "width": null
          }
        },
        "86f406854a674bdc93739becf149d427": {
          "model_module": "@jupyter-widgets/controls",
          "model_module_version": "1.5.0",
          "model_name": "DescriptionStyleModel",
          "state": {
            "_model_module": "@jupyter-widgets/controls",
            "_model_module_version": "1.5.0",
            "_model_name": "DescriptionStyleModel",
            "_view_count": null,
            "_view_module": "@jupyter-widgets/base",
            "_view_module_version": "1.2.0",
            "_view_name": "StyleView",
            "description_width": ""
          }
        },
        "8b79d58840bd4dd2b50483a317513d4a": {
          "model_module": "@jupyter-widgets/base",
          "model_module_version": "1.2.0",
          "model_name": "LayoutModel",
          "state": {
            "_model_module": "@jupyter-widgets/base",
            "_model_module_version": "1.2.0",
            "_model_name": "LayoutModel",
            "_view_count": null,
            "_view_module": "@jupyter-widgets/base",
            "_view_module_version": "1.2.0",
            "_view_name": "LayoutView",
            "align_content": null,
            "align_items": null,
            "align_self": null,
            "border": null,
            "bottom": null,
            "display": null,
            "flex": null,
            "flex_flow": null,
            "grid_area": null,
            "grid_auto_columns": null,
            "grid_auto_flow": null,
            "grid_auto_rows": null,
            "grid_column": null,
            "grid_gap": null,
            "grid_row": null,
            "grid_template_areas": null,
            "grid_template_columns": null,
            "grid_template_rows": null,
            "height": null,
            "justify_content": null,
            "justify_items": null,
            "left": null,
            "margin": null,
            "max_height": null,
            "max_width": null,
            "min_height": null,
            "min_width": null,
            "object_fit": null,
            "object_position": null,
            "order": null,
            "overflow": null,
            "overflow_x": null,
            "overflow_y": null,
            "padding": null,
            "right": null,
            "top": null,
            "visibility": null,
            "width": null
          }
        },
        "8c332dd8999646d094c1071b2f0710f7": {
          "model_module": "@jupyter-widgets/controls",
          "model_module_version": "1.5.0",
          "model_name": "HTMLModel",
          "state": {
            "_dom_classes": [],
            "_model_module": "@jupyter-widgets/controls",
            "_model_module_version": "1.5.0",
            "_model_name": "HTMLModel",
            "_view_count": null,
            "_view_module": "@jupyter-widgets/controls",
            "_view_module_version": "1.5.0",
            "_view_name": "HTMLView",
            "description": "",
            "description_tooltip": null,
            "layout": "IPY_MODEL_9dac1b9e99f8474996e0ae1454189c42",
            "placeholder": "​",
            "style": "IPY_MODEL_5ef4b3b11c654b91af442ef168a926cf",
            "value": "100%"
          }
        },
        "92d98daf42224287acccc8f83e5169c6": {
          "model_module": "@jupyter-widgets/base",
          "model_module_version": "1.2.0",
          "model_name": "LayoutModel",
          "state": {
            "_model_module": "@jupyter-widgets/base",
            "_model_module_version": "1.2.0",
            "_model_name": "LayoutModel",
            "_view_count": null,
            "_view_module": "@jupyter-widgets/base",
            "_view_module_version": "1.2.0",
            "_view_name": "LayoutView",
            "align_content": null,
            "align_items": null,
            "align_self": null,
            "border": null,
            "bottom": null,
            "display": null,
            "flex": null,
            "flex_flow": null,
            "grid_area": null,
            "grid_auto_columns": null,
            "grid_auto_flow": null,
            "grid_auto_rows": null,
            "grid_column": null,
            "grid_gap": null,
            "grid_row": null,
            "grid_template_areas": null,
            "grid_template_columns": null,
            "grid_template_rows": null,
            "height": null,
            "justify_content": null,
            "justify_items": null,
            "left": null,
            "margin": null,
            "max_height": null,
            "max_width": null,
            "min_height": null,
            "min_width": null,
            "object_fit": null,
            "object_position": null,
            "order": null,
            "overflow": null,
            "overflow_x": null,
            "overflow_y": null,
            "padding": null,
            "right": null,
            "top": null,
            "visibility": null,
            "width": null
          }
        },
        "9d9176d506f24a979ed74e7e7ea47949": {
          "model_module": "@jupyter-widgets/base",
          "model_module_version": "1.2.0",
          "model_name": "LayoutModel",
          "state": {
            "_model_module": "@jupyter-widgets/base",
            "_model_module_version": "1.2.0",
            "_model_name": "LayoutModel",
            "_view_count": null,
            "_view_module": "@jupyter-widgets/base",
            "_view_module_version": "1.2.0",
            "_view_name": "LayoutView",
            "align_content": null,
            "align_items": null,
            "align_self": null,
            "border": null,
            "bottom": null,
            "display": null,
            "flex": null,
            "flex_flow": null,
            "grid_area": null,
            "grid_auto_columns": null,
            "grid_auto_flow": null,
            "grid_auto_rows": null,
            "grid_column": null,
            "grid_gap": null,
            "grid_row": null,
            "grid_template_areas": null,
            "grid_template_columns": null,
            "grid_template_rows": null,
            "height": null,
            "justify_content": null,
            "justify_items": null,
            "left": null,
            "margin": null,
            "max_height": null,
            "max_width": null,
            "min_height": null,
            "min_width": null,
            "object_fit": null,
            "object_position": null,
            "order": null,
            "overflow": null,
            "overflow_x": null,
            "overflow_y": null,
            "padding": null,
            "right": null,
            "top": null,
            "visibility": null,
            "width": null
          }
        },
        "9dac1b9e99f8474996e0ae1454189c42": {
          "model_module": "@jupyter-widgets/base",
          "model_module_version": "1.2.0",
          "model_name": "LayoutModel",
          "state": {
            "_model_module": "@jupyter-widgets/base",
            "_model_module_version": "1.2.0",
            "_model_name": "LayoutModel",
            "_view_count": null,
            "_view_module": "@jupyter-widgets/base",
            "_view_module_version": "1.2.0",
            "_view_name": "LayoutView",
            "align_content": null,
            "align_items": null,
            "align_self": null,
            "border": null,
            "bottom": null,
            "display": null,
            "flex": null,
            "flex_flow": null,
            "grid_area": null,
            "grid_auto_columns": null,
            "grid_auto_flow": null,
            "grid_auto_rows": null,
            "grid_column": null,
            "grid_gap": null,
            "grid_row": null,
            "grid_template_areas": null,
            "grid_template_columns": null,
            "grid_template_rows": null,
            "height": null,
            "justify_content": null,
            "justify_items": null,
            "left": null,
            "margin": null,
            "max_height": null,
            "max_width": null,
            "min_height": null,
            "min_width": null,
            "object_fit": null,
            "object_position": null,
            "order": null,
            "overflow": null,
            "overflow_x": null,
            "overflow_y": null,
            "padding": null,
            "right": null,
            "top": null,
            "visibility": null,
            "width": null
          }
        },
        "a1685274093543ce92537be82a69657b": {
          "model_module": "@jupyter-widgets/controls",
          "model_module_version": "1.5.0",
          "model_name": "ProgressStyleModel",
          "state": {
            "_model_module": "@jupyter-widgets/controls",
            "_model_module_version": "1.5.0",
            "_model_name": "ProgressStyleModel",
            "_view_count": null,
            "_view_module": "@jupyter-widgets/base",
            "_view_module_version": "1.2.0",
            "_view_name": "StyleView",
            "bar_color": null,
            "description_width": ""
          }
        },
        "b7a61311859e49fd8a773b580577d9aa": {
          "model_module": "@jupyter-widgets/controls",
          "model_module_version": "1.5.0",
          "model_name": "FloatProgressModel",
          "state": {
            "_dom_classes": [],
            "_model_module": "@jupyter-widgets/controls",
            "_model_module_version": "1.5.0",
            "_model_name": "FloatProgressModel",
            "_view_count": null,
            "_view_module": "@jupyter-widgets/controls",
            "_view_module_version": "1.5.0",
            "_view_name": "ProgressView",
            "bar_style": "success",
            "description": "",
            "description_tooltip": null,
            "layout": "IPY_MODEL_92d98daf42224287acccc8f83e5169c6",
            "max": 11,
            "min": 0,
            "orientation": "horizontal",
            "style": "IPY_MODEL_a1685274093543ce92537be82a69657b",
            "value": 11
          }
        },
        "c71c2ff72d394b07bc6a1b3798352d17": {
          "model_module": "@jupyter-widgets/controls",
          "model_module_version": "1.5.0",
          "model_name": "HTMLModel",
          "state": {
            "_dom_classes": [],
            "_model_module": "@jupyter-widgets/controls",
            "_model_module_version": "1.5.0",
            "_model_name": "HTMLModel",
            "_view_count": null,
            "_view_module": "@jupyter-widgets/controls",
            "_view_module_version": "1.5.0",
            "_view_name": "HTMLView",
            "description": "",
            "description_tooltip": null,
            "layout": "IPY_MODEL_fd75f41318c040e7a72eac1a345c597f",
            "placeholder": "​",
            "style": "IPY_MODEL_ef053f621b16494683250129d8e0b85c",
            "value": " 11/11 [00:01&lt;00:00,  6.16it/s]"
          }
        },
        "d62aff51f72148bbb111172ab5ae7982": {
          "model_module": "@jupyter-widgets/base",
          "model_module_version": "1.2.0",
          "model_name": "LayoutModel",
          "state": {
            "_model_module": "@jupyter-widgets/base",
            "_model_module_version": "1.2.0",
            "_model_name": "LayoutModel",
            "_view_count": null,
            "_view_module": "@jupyter-widgets/base",
            "_view_module_version": "1.2.0",
            "_view_name": "LayoutView",
            "align_content": null,
            "align_items": null,
            "align_self": null,
            "border": null,
            "bottom": null,
            "display": null,
            "flex": null,
            "flex_flow": null,
            "grid_area": null,
            "grid_auto_columns": null,
            "grid_auto_flow": null,
            "grid_auto_rows": null,
            "grid_column": null,
            "grid_gap": null,
            "grid_row": null,
            "grid_template_areas": null,
            "grid_template_columns": null,
            "grid_template_rows": null,
            "height": null,
            "justify_content": null,
            "justify_items": null,
            "left": null,
            "margin": null,
            "max_height": null,
            "max_width": null,
            "min_height": null,
            "min_width": null,
            "object_fit": null,
            "object_position": null,
            "order": null,
            "overflow": null,
            "overflow_x": null,
            "overflow_y": null,
            "padding": null,
            "right": null,
            "top": null,
            "visibility": null,
            "width": null
          }
        },
        "ef053f621b16494683250129d8e0b85c": {
          "model_module": "@jupyter-widgets/controls",
          "model_module_version": "1.5.0",
          "model_name": "DescriptionStyleModel",
          "state": {
            "_model_module": "@jupyter-widgets/controls",
            "_model_module_version": "1.5.0",
            "_model_name": "DescriptionStyleModel",
            "_view_count": null,
            "_view_module": "@jupyter-widgets/base",
            "_view_module_version": "1.2.0",
            "_view_name": "StyleView",
            "description_width": ""
          }
        },
        "f10b5a24193243f5b192fd5427d567bb": {
          "model_module": "@jupyter-widgets/controls",
          "model_module_version": "1.5.0",
          "model_name": "HBoxModel",
          "state": {
            "_dom_classes": [],
            "_model_module": "@jupyter-widgets/controls",
            "_model_module_version": "1.5.0",
            "_model_name": "HBoxModel",
            "_view_count": null,
            "_view_module": "@jupyter-widgets/controls",
            "_view_module_version": "1.5.0",
            "_view_name": "HBoxView",
            "box_style": "",
            "children": [
              "IPY_MODEL_3480b0c0d2b741a9904d960adecbbd13",
              "IPY_MODEL_33e102068dd447b5969ff889035f8384",
              "IPY_MODEL_c71c2ff72d394b07bc6a1b3798352d17"
            ],
            "layout": "IPY_MODEL_d62aff51f72148bbb111172ab5ae7982"
          }
        },
        "fd75f41318c040e7a72eac1a345c597f": {
          "model_module": "@jupyter-widgets/base",
          "model_module_version": "1.2.0",
          "model_name": "LayoutModel",
          "state": {
            "_model_module": "@jupyter-widgets/base",
            "_model_module_version": "1.2.0",
            "_model_name": "LayoutModel",
            "_view_count": null,
            "_view_module": "@jupyter-widgets/base",
            "_view_module_version": "1.2.0",
            "_view_name": "LayoutView",
            "align_content": null,
            "align_items": null,
            "align_self": null,
            "border": null,
            "bottom": null,
            "display": null,
            "flex": null,
            "flex_flow": null,
            "grid_area": null,
            "grid_auto_columns": null,
            "grid_auto_flow": null,
            "grid_auto_rows": null,
            "grid_column": null,
            "grid_gap": null,
            "grid_row": null,
            "grid_template_areas": null,
            "grid_template_columns": null,
            "grid_template_rows": null,
            "height": null,
            "justify_content": null,
            "justify_items": null,
            "left": null,
            "margin": null,
            "max_height": null,
            "max_width": null,
            "min_height": null,
            "min_width": null,
            "object_fit": null,
            "object_position": null,
            "order": null,
            "overflow": null,
            "overflow_x": null,
            "overflow_y": null,
            "padding": null,
            "right": null,
            "top": null,
            "visibility": null,
            "width": null
          }
        }
      }
    }
  },
  "nbformat": 4,
  "nbformat_minor": 0
}
